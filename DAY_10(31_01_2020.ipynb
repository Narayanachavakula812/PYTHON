{
  "nbformat": 4,
  "nbformat_minor": 0,
  "metadata": {
    "colab": {
      "name": "DAY-10(31-01-2020",
      "provenance": [],
      "authorship_tag": "ABX9TyOgxpXqzxoyuiFVku2kbUIu",
      "include_colab_link": true
    },
    "kernelspec": {
      "name": "python3",
      "display_name": "Python 3"
    }
  },
  "cells": [
    {
      "cell_type": "markdown",
      "metadata": {
        "id": "view-in-github",
        "colab_type": "text"
      },
      "source": [
        "<a href=\"https://colab.research.google.com/github/Narayanachavakula812/PYTHON/blob/master/DAY_10(31_01_2020.ipynb\" target=\"_parent\"><img src=\"https://colab.research.google.com/assets/colab-badge.svg\" alt=\"Open In Colab\"/></a>"
      ]
    },
    {
      "cell_type": "code",
      "metadata": {
        "id": "9eh0bXU9wyMq",
        "colab_type": "code",
        "colab": {}
      },
      "source": [
        ""
      ],
      "execution_count": 0,
      "outputs": []
    },
    {
      "cell_type": "markdown",
      "metadata": {
        "id": "agvEXmXTw89F",
        "colab_type": "text"
      },
      "source": [
        "# WHILE LOOP\n",
        "# FOR LOOP"
      ]
    },
    {
      "cell_type": "code",
      "metadata": {
        "id": "hXFEMVf0xOHs",
        "colab_type": "code",
        "colab": {
          "base_uri": "https://localhost:8080/",
          "height": 51
        },
        "outputId": "6c7086ed-7a11-4f3d-ee83-78f3d44d8f12"
      },
      "source": [
        "# PRINT NUMBER FROM 1 TO N\n",
        "# input 10\n",
        "# output 1 2 3....10\n",
        "n = int(input(\"enter a number :\"))\n",
        "i = 1\n",
        "while i<=n:\n",
        "  print(i,end =\" \" )\n",
        "  i = i+1"
      ],
      "execution_count": 4,
      "outputs": [
        {
          "output_type": "stream",
          "text": [
            "enter a number10\n",
            "1 2 3 4 5 6 7 8 9 10 "
          ],
          "name": "stdout"
        }
      ]
    },
    {
      "cell_type": "code",
      "metadata": {
        "id": "b3lt5KH2yWNf",
        "colab_type": "code",
        "colab": {
          "base_uri": "https://localhost:8080/",
          "height": 51
        },
        "outputId": "5c93ebf3-ce5e-4763-b497-46805850799b"
      },
      "source": [
        "# PRINT SUM OF THE EVEN NUMBERS UPTO 20\n",
        "# input\n",
        "# output\n",
        "n = int(input(\"enter a number :\"))\n",
        "i= 0\n",
        "sum = 0\n",
        "while i<=n:\n",
        "  sum = sum +i\n",
        "  i = i+2\n",
        "  print(sum,end =\" \")"
      ],
      "execution_count": 9,
      "outputs": [
        {
          "output_type": "stream",
          "text": [
            "enter a number :20\n",
            "0 2 6 12 20 30 42 56 72 90 110 "
          ],
          "name": "stdout"
        }
      ]
    },
    {
      "cell_type": "code",
      "metadata": {
        "id": "Y7BRCH3z5GZo",
        "colab_type": "code",
        "colab": {
          "base_uri": "https://localhost:8080/",
          "height": 85
        },
        "outputId": "77887325-d149-4f27-874b-9834ea3d4593"
      },
      "source": [
        "# print paramdole\n",
        "# input\n",
        "# output\n",
        "n=int(input(\"enter a number :\"))\n",
        "rem=0\n",
        "num=0\n",
        "while n>0:\n",
        "  rem=n%10\n",
        "  num=num*10+rem\n",
        "  n=n//10\n",
        "  print(num)"
      ],
      "execution_count": 12,
      "outputs": [
        {
          "output_type": "stream",
          "text": [
            "enter a number :456\n",
            "6\n",
            "65\n",
            "654\n"
          ],
          "name": "stdout"
        }
      ]
    },
    {
      "cell_type": "markdown",
      "metadata": {
        "id": "ADRgo3oY8DNJ",
        "colab_type": "text"
      },
      "source": [
        ""
      ]
    },
    {
      "cell_type": "markdown",
      "metadata": {
        "id": "nYvGlxg-8Fsn",
        "colab_type": "text"
      },
      "source": [
        "# functional programing"
      ]
    },
    {
      "cell_type": "markdown",
      "metadata": {
        "id": "HjVIXghh8Rq4",
        "colab_type": "text"
      },
      "source": [
        "* simple \n",
        "* eaasy to understand\n",
        "* better reusability\n",
        "* lengthy program will be divided into sub programs"
      ]
    },
    {
      "cell_type": "code",
      "metadata": {
        "id": "JL4VdI2k59a0",
        "colab_type": "code",
        "colab": {}
      },
      "source": [
        "def nameofthefuction(<parameter>:)\n",
        "statements\n",
        "return"
      ],
      "execution_count": 0,
      "outputs": []
    },
    {
      "cell_type": "code",
      "metadata": {
        "id": "1IGL5fbU9SI_",
        "colab_type": "code",
        "colab": {
          "base_uri": "https://localhost:8080/",
          "height": 34
        },
        "outputId": "11c5492e-fb4c-43dd-a48c-36171714ab8b"
      },
      "source": [
        "# print sum of even number\n",
        "# input:1234\n",
        "# output:(2+4)=6\n",
        "def sumofevendigits(n):\n",
        " s = 0\n",
        " while n!= 0:\n",
        "   r = n%10\n",
        "   if r%2==0:\n",
        "    s=s+r \n",
        "   n =n//10\n",
        " return s\n",
        "sumofevendigits(1234)\n",
        "\n",
        "\n",
        "\n",
        "\n",
        "\n",
        "\n",
        "\n",
        "\n"
      ],
      "execution_count": 21,
      "outputs": [
        {
          "output_type": "execute_result",
          "data": {
            "text/plain": [
              "6"
            ]
          },
          "metadata": {
            "tags": []
          },
          "execution_count": 21
        }
      ]
    },
    {
      "cell_type": "code",
      "metadata": {
        "id": "YqV_2fBs-twj",
        "colab_type": "code",
        "colab": {
          "base_uri": "https://localhost:8080/",
          "height": 34
        },
        "outputId": "8c8302c7-0301-486b-ee9a-49c256132940"
      },
      "source": [
        "# print find the largest number in a number\n",
        "# input: 123456\n",
        "# output:6\n",
        "def large(n):\n",
        "  prev=0\n",
        "  next=0\n",
        "  while(n!=0):\n",
        "    prev=next\n",
        "    next=n%10\n",
        "    if(prev>next):\n",
        "      next=prev\n",
        "    n=n//10\n",
        "  return next\n",
        "large(123456)"
      ],
      "execution_count": 42,
      "outputs": [
        {
          "output_type": "execute_result",
          "data": {
            "text/plain": [
              "6"
            ]
          },
          "metadata": {
            "tags": []
          },
          "execution_count": 42
        }
      ]
    },
    {
      "cell_type": "markdown",
      "metadata": {
        "id": "6_TWrhQAHaQk",
        "colab_type": "text"
      },
      "source": [
        "# for loop"
      ]
    },
    {
      "cell_type": "markdown",
      "metadata": {
        "id": "YIbBqIjHL2iB",
        "colab_type": "text"
      },
      "source": [
        ""
      ]
    },
    {
      "cell_type": "markdown",
      "metadata": {
        "id": "ICN_SaS5L3Kh",
        "colab_type": "text"
      },
      "source": [
        ""
      ]
    },
    {
      "cell_type": "markdown",
      "metadata": {
        "id": "gEf-MQLZHf2n",
        "colab_type": "text"
      },
      "source": [
        "# syntex\n",
        "# for in range (start,stop,stop)\n",
        "# statement"
      ]
    },
    {
      "cell_type": "code",
      "metadata": {
        "id": "hidNuOMHF63x",
        "colab_type": "code",
        "colab": {}
      },
      "source": [
        "# syntex:\n",
        "for in  the range(strart,stop,stop)\n",
        "     statements"
      ],
      "execution_count": 0,
      "outputs": []
    },
    {
      "cell_type": "code",
      "metadata": {
        "id": "Pl0ac6AIIMYt",
        "colab_type": "code",
        "colab": {
          "base_uri": "https://localhost:8080/",
          "height": 34
        },
        "outputId": "0be224d0-cd63-44ce-a3e1-08853f57d426"
      },
      "source": [
        "# using fuction number between the limits\n",
        "# input 11 25\n",
        "# output 11 12 13 14 ....25\n",
        "def printserires(fn,ln):\n",
        "  for i in range(fn,ln+1):\n",
        "    print(i,end= \" \")\n",
        "  return\n",
        "printserires(11,25)"
      ],
      "execution_count": 37,
      "outputs": [
        {
          "output_type": "stream",
          "text": [
            "11 12 13 14 15 16 17 18 19 20 21 22 23 24 25 "
          ],
          "name": "stdout"
        }
      ]
    },
    {
      "cell_type": "code",
      "metadata": {
        "id": "yVRvcl70JhUR",
        "colab_type": "code",
        "colab": {}
      },
      "source": [
        ""
      ],
      "execution_count": 0,
      "outputs": []
    },
    {
      "cell_type": "markdown",
      "metadata": {
        "id": "BNR_O836L4fw",
        "colab_type": "text"
      },
      "source": [
        "# collection types\n",
        "* list\n",
        "* tuple\n",
        "* dictionary "
      ]
    },
    {
      "cell_type": "code",
      "metadata": {
        "id": "6Qa-VvT4MKeW",
        "colab_type": "code",
        "colab": {}
      },
      "source": [
        ""
      ],
      "execution_count": 0,
      "outputs": []
    },
    {
      "cell_type": "markdown",
      "metadata": {
        "id": "18m7zFjjMnVJ",
        "colab_type": "text"
      },
      "source": [
        "# list\n",
        "* one of the data stucture in python\n",
        "* data structure means to store sort and search options\n",
        "* its one common data structure in python,the items of list separated by common and enclosed by square brackets\n",
        "* IN list wwe can change values\n",
        "* ex;\n",
        "* list=[1,2,3,4]\n",
        "* list=[jntu,adds,dsd']"
      ]
    },
    {
      "cell_type": "code",
      "metadata": {
        "id": "2F4jTLZlOCiu",
        "colab_type": "code",
        "colab": {
          "base_uri": "https://localhost:8080/",
          "height": 34
        },
        "outputId": "435c6b3e-5d32-479d-e5ab-6494353a2a64"
      },
      "source": [
        "li = [1,2,3,4,5]\n",
        "print(li)"
      ],
      "execution_count": 43,
      "outputs": [
        {
          "output_type": "stream",
          "text": [
            "[1, 2, 3, 4, 5]\n"
          ],
          "name": "stdout"
        }
      ]
    },
    {
      "cell_type": "code",
      "metadata": {
        "id": "zHctVb5nOMiA",
        "colab_type": "code",
        "colab": {
          "base_uri": "https://localhost:8080/",
          "height": 136
        },
        "outputId": "1f6fe84a-c064-4f09-d35d-b82826d2f067"
      },
      "source": [
        "li = [1,6,3,9,5]\n",
        "print(li)\n",
        "print(li[3])\n",
        "print(li[-3])\n",
        "print(li[3])\n",
        "print(li[3:])\n",
        "print(li[3:5])\n",
        "print(li[-4:-1])"
      ],
      "execution_count": 44,
      "outputs": [
        {
          "output_type": "stream",
          "text": [
            "[1, 6, 3, 9, 5]\n",
            "9\n",
            "3\n",
            "9\n",
            "[9, 5]\n",
            "[9, 5]\n",
            "[6, 3, 9]\n"
          ],
          "name": "stdout"
        }
      ]
    },
    {
      "cell_type": "code",
      "metadata": {
        "id": "76XSKY3UZ19F",
        "colab_type": "code",
        "colab": {
          "base_uri": "https://localhost:8080/",
          "height": 68
        },
        "outputId": "f66c5f02-b7e7-400e-9348-5bdffff57518"
      },
      "source": [
        "# update  list\n",
        "li = [\"jntu\",8,\"antpr\",5,4]\n",
        "print(li)\n",
        "li[1]=\"154\"\n",
        "print(li)\n",
        "# delete list item\n",
        "del li[3]\n",
        "print(li)\n"
      ],
      "execution_count": 52,
      "outputs": [
        {
          "output_type": "stream",
          "text": [
            "['jntu', 8, 'antpr', 5, 4]\n",
            "['jntu', '154', 'antpr', 5, 4]\n",
            "['jntu', '154', 'antpr', 4]\n"
          ],
          "name": "stdout"
        }
      ]
    },
    {
      "cell_type": "code",
      "metadata": {
        "id": "_6VdoltgbZBO",
        "colab_type": "code",
        "colab": {
          "base_uri": "https://localhost:8080/",
          "height": 51
        },
        "outputId": "84da8db7-ea1e-49cd-ec65-899b45cb5fa7"
      },
      "source": [
        "# basic list operations\n",
        "li = [1,2,3,4,5]\n",
        "print(len(li))\n",
        "print(li*2)"
      ],
      "execution_count": 54,
      "outputs": [
        {
          "output_type": "stream",
          "text": [
            "5\n",
            "[1, 2, 3, 4, 5, 1, 2, 3, 4, 5]\n"
          ],
          "name": "stdout"
        }
      ]
    },
    {
      "cell_type": "code",
      "metadata": {
        "id": "RKn63mWJcbTt",
        "colab_type": "code",
        "colab": {
          "base_uri": "https://localhost:8080/",
          "height": 34
        },
        "outputId": "ec141025-3abf-4232-bf5f-8efbf836c26c"
      },
      "source": [
        "print(4 in li)"
      ],
      "execution_count": 55,
      "outputs": [
        {
          "output_type": "stream",
          "text": [
            "True\n"
          ],
          "name": "stdout"
        }
      ]
    },
    {
      "cell_type": "code",
      "metadata": {
        "id": "bWTKncCMcyVc",
        "colab_type": "code",
        "colab": {
          "base_uri": "https://localhost:8080/",
          "height": 34
        },
        "outputId": "2771c6c0-d118-4d74-db5f-b850627186d8"
      },
      "source": [
        "print(6 in li)"
      ],
      "execution_count": 56,
      "outputs": [
        {
          "output_type": "stream",
          "text": [
            "False\n"
          ],
          "name": "stdout"
        }
      ]
    },
    {
      "cell_type": "markdown",
      "metadata": {
        "id": "zRQqCttFc8WY",
        "colab_type": "text"
      },
      "source": [
        "# list functions\n",
        "* max \n",
        "* min\n",
        "* sum\n",
        "* append\n",
        "* insert\n",
        "* count\n",
        "* index\n",
        "* sort\n",
        "* pop"
      ]
    },
    {
      "cell_type": "code",
      "metadata": {
        "id": "vTz370PIdZ_s",
        "colab_type": "code",
        "colab": {
          "base_uri": "https://localhost:8080/",
          "height": 34
        },
        "outputId": "71533d24-bfba-48e6-b79f-5f0174af052e"
      },
      "source": [
        "li = [1,2,3,4,5]\n",
        "print(max(li))"
      ],
      "execution_count": 63,
      "outputs": [
        {
          "output_type": "stream",
          "text": [
            "5\n"
          ],
          "name": "stdout"
        }
      ]
    },
    {
      "cell_type": "code",
      "metadata": {
        "id": "twQZcdWHdnY-",
        "colab_type": "code",
        "colab": {
          "base_uri": "https://localhost:8080/",
          "height": 34
        },
        "outputId": "e1f6e021-8ce7-4145-9d37-369b72b6322b"
      },
      "source": [
        "print(min(li))"
      ],
      "execution_count": 58,
      "outputs": [
        {
          "output_type": "stream",
          "text": [
            "1\n"
          ],
          "name": "stdout"
        }
      ]
    },
    {
      "cell_type": "code",
      "metadata": {
        "id": "mjhLIUfzeCgE",
        "colab_type": "code",
        "colab": {}
      },
      "source": [
        "print(sum(l))"
      ],
      "execution_count": 0,
      "outputs": []
    },
    {
      "cell_type": "code",
      "metadata": {
        "id": "BlqDWC05eDGb",
        "colab_type": "code",
        "colab": {
          "base_uri": "https://localhost:8080/",
          "height": 34
        },
        "outputId": "355f1f1c-c895-45f8-8a2b-029f0137338a"
      },
      "source": [
        "l = [1,2,3,4,5]\n",
        "# l.append(56)\n",
        "# l.insert(2,56)\n",
        "# l.count(5)\n",
        "# l.sort()\n",
        "l.pop(2)\n",
        "print(l)"
      ],
      "execution_count": 82,
      "outputs": [
        {
          "output_type": "stream",
          "text": [
            "[1, 2, 4, 5]\n"
          ],
          "name": "stdout"
        }
      ]
    },
    {
      "cell_type": "code",
      "metadata": {
        "id": "A9oGtXZGiETm",
        "colab_type": "code",
        "colab": {
          "base_uri": "https://localhost:8080/",
          "height": 51
        },
        "outputId": "d5545b28-336e-4734-c293-da2478141c1b"
      },
      "source": [
        "# using function return large number from the 1 \n",
        "def largenumber(li):\n",
        "  li.sort()\n",
        "  return li[-1]\n",
        "def genericlarge(li,n):\n",
        "  li.sort()\n",
        "  return li[-n]\n",
        "li =[12,34,5,56,78,67]\n",
        "print(largenumber(li))\n",
        "print(genericlarge(li,3))"
      ],
      "execution_count": 97,
      "outputs": [
        {
          "output_type": "stream",
          "text": [
            "78\n",
            "56\n"
          ],
          "name": "stdout"
        }
      ]
    },
    {
      "cell_type": "code",
      "metadata": {
        "id": "eo1WwBSlixhQ",
        "colab_type": "code",
        "colab": {}
      },
      "source": [
        ""
      ],
      "execution_count": 0,
      "outputs": []
    }
  ]
}